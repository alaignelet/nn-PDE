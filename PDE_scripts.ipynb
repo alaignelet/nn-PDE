{
  "nbformat": 4,
  "nbformat_minor": 0,
  "metadata": {
    "colab": {
      "name": "PDE scripts.ipynb",
      "provenance": [],
      "collapsed_sections": []
    },
    "kernelspec": {
      "name": "python3",
      "display_name": "Python 3"
    }
  },
  "cells": [
    {
      "cell_type": "code",
      "metadata": {
        "id": "iKB-A3kUqwZL"
      },
      "source": [
        "import torch\n",
        "import torch.nn as nn\n",
        "import torch.nn.functional as F\n",
        "from torch.autograd import Variable\n",
        "import pandas as pd\n",
        "import numpy as np\n",
        "import matplotlib.pyplot as plt\n",
        "from enum import Enum"
      ],
      "execution_count": 1,
      "outputs": []
    },
    {
      "cell_type": "code",
      "metadata": {
        "id": "OXwVzF5OqwWM"
      },
      "source": [
        "class ActivationFunction(Enum):\n",
        "    ''' Enum of activation functions.\n",
        "    '''\n",
        "    Tanh = 0\n",
        "    Sigmoid = 1\n",
        "    Sin = 2\n",
        "    Cos = 3\n",
        "    Atan = 4"
      ],
      "execution_count": 2,
      "outputs": []
    },
    {
      "cell_type": "code",
      "metadata": {
        "id": "7yDUfCFqqwQc"
      },
      "source": [
        "class ActivationFunctionNeuralNetwork(nn.Module):\n",
        "    '''Activation function of the neural network.\n",
        "    '''\n",
        "\n",
        "    def __init__(self, activationFunction=ActivationFunction.Tanh):\n",
        "        super(ActivationFunctionNeuralNetwork, self).__init__()\n",
        "        self.activationFunction = activationFunction\n",
        "\n",
        "\n",
        "    def forward(self, x):\n",
        "        if self.activationFunction == ActivationFunction.Tanh:\n",
        "            return torch.tanh(x)\n",
        "\n",
        "        elif self.activationFunction == ActivationFunction.Sigmoid:\n",
        "            return torch.sigmoid(x)\n",
        "\n",
        "        elif self.activationFunction == ActivationFunction.Sin:\n",
        "            return torch.sin(x)\n",
        "\n",
        "        elif self.activationFunction == ActivationFunction.Cos:\n",
        "            return torch.cos(x)\n",
        "\n",
        "        elif self.activationFunction == ActivationFunction.Atan:\n",
        "            return torch.atan(x)"
      ],
      "execution_count": 3,
      "outputs": []
    },
    {
      "cell_type": "code",
      "metadata": {
        "id": "xb3r1C55qwN1"
      },
      "source": [
        "class NeuralNet(nn.Module):\n",
        "    ''' Neural Network used as a mapping function.\n",
        "        Glorot initialisation.\n",
        "    '''\n",
        "    def __init__(self, layers, activationFunction=ActivationFunction.Sigmoid):\n",
        "        super(NeuralNet, self).__init__()\n",
        "        self.layers = []\n",
        "        for i in range(len(layers) - 2):\n",
        "            self.layers.append(nn.Linear(in_features=layers[i], out_features=layers[i+1]))\n",
        "            self.layers.append(ActivationFunctionNeuralNetwork(activationFunction))\n",
        "\n",
        "        self.layers.append(nn.Linear(in_features=layers[-2], out_features=layers[-1]))\n",
        "        self.model = nn.Sequential(*self.layers)\n",
        "        self.model.apply(self._normalInit)\n",
        "\n",
        "\n",
        "    def _normalInit(self, layer):\n",
        "        if type(layer) == nn.Linear:\n",
        "            torch.nn.init.xavier_normal_(layer.weight)\n",
        "\n",
        "\n",
        "    def partialDerivative(self, x, order=1):\n",
        "        grad = self.model(x)\n",
        "        for i in range(order):\n",
        "            grad = torch.autograd.grad(outputs=grad, inputs=x, grad_outputs=torch.ones_like(grad), create_graph=True)[0]\n",
        "        \n",
        "        return grad\n",
        "\n",
        "\n",
        "    def train(self, feedDict, lossFunction, iterations, gradientDescent):\n",
        "        # retrieve data\n",
        "        xInt = torch.tensor(feedDict['xInt'], requires_grad=True).float()\n",
        "        xBound = torch.tensor(feedDict['xBound'], requires_grad=True).float()\n",
        "        yBoundCondition = torch.tensor(feedDict['yBoundCondition'])\n",
        "\n",
        "        if gradientDescent:\n",
        "            # Adam optimizer\n",
        "            optimizer = torch.optim.Adam(params=self.model.parameters(), lr=0.01)\n",
        "\n",
        "            for epoch in range(iterations):\n",
        "                yInt = self.model(xInt)\n",
        "                yBound = self.model(xBound)\n",
        "                loss = lossFunction(xInt=xInt, yInt=yInt, yBound=yBound, yBoundCondition=yBoundCondition)\n",
        "                optimizer.zero_grad()\n",
        "                loss.backward()\n",
        "                optimizer.step()\n",
        "                if epoch % 1000 == 0:\n",
        "                    print('%d / %d, loss:%.2e' %(epoch, iterations, loss))\n",
        "\n",
        "        else:\n",
        "            # LBFGS optimizer\n",
        "            optimizer = torch.optim.LBFGS(\n",
        "                params=self.model.parameters(),\n",
        "                lr=1,\n",
        "                max_iter=iterations,\n",
        "                max_eval=None,\n",
        "                tolerance_grad=1e-07,\n",
        "                tolerance_change=1e-09,\n",
        "                history_size=100,\n",
        "                line_search_fn=None\n",
        "            )\n",
        "\n",
        "            def closure():\n",
        "                if torch.is_grad_enabled():\n",
        "                    optimizer.zero_grad()\n",
        "                yInt = self.model(xInt)\n",
        "                yBound = self.model(xBound)\n",
        "                loss = lossFunction(xInt, yInt, yBound, yBoundCondition)\n",
        "                if loss.requires_grad:\n",
        "                    loss.backward()\n",
        "                return loss\n",
        "            optimizer.step(closure)\n",
        "\n",
        "\n",
        "    def predict(self, feedDict):\n",
        "        xInt = torch.tensor(feedDict['xInt']).float()\n",
        "        xBound = torch.tensor(feedDict['xBound']).float()\n",
        "\n",
        "        outputInt = self.model(xInt)\n",
        "        outputBound = self.model(xBound)\n",
        "\n",
        "        return outputInt, outputBound"
      ],
      "execution_count": 129,
      "outputs": []
    },
    {
      "cell_type": "code",
      "metadata": {
        "id": "AeSzXNlCqwLL"
      },
      "source": [
        "class PDENeuralNetwork():\n",
        "    def __init__(self, domain, network):\n",
        "        self.domain = domain\n",
        "        self.network = network\n",
        "        self.boundaryDomainSize, self.totalBoundaryDomainSize = self._computeBoundaryDomainSize()\n",
        "\n",
        "    def _computeBoundaryDomainSize(self):\n",
        "        boundaryDomainSize = []\n",
        "        totalBoundaryDomainSize = 0\n",
        "        for i in range(len(self.domain)):\n",
        "            boundaryDomainSize.append(1)\n",
        "            for j in range(len(self.domain)):\n",
        "                if j != i:\n",
        "                    boundaryDomainSize[i] = boundaryDomainSize[i] * (self.domain[j][1] - self.domain[j][0])\n",
        "            totalBoundaryDomainSize = totalBoundaryDomainSize + 2 * boundaryDomainSize[i]\n",
        "        \n",
        "        return boundaryDomainSize, totalBoundaryDomainSize\n",
        "\n",
        "\n",
        "    def sampleInteriorX(self, pointCount):\n",
        "        if pointCount < 1:\n",
        "            pointCount = 1\n",
        "\n",
        "        xInt = []\n",
        "        for i in range(len(self.domain)):\n",
        "            xInt.append(np.random.uniform(low=self.domain[i][0], high=self.domain[i][1], size=(pointCount, 1)))\n",
        "        \n",
        "        return xInt\n",
        "\n",
        "    # Sample uniform collocation points on the boundary of the domain\n",
        "    def sampleBoundaryX(self, pointCount):\n",
        "        if pointCount < 2 * len(self.domain):\n",
        "            pointCount = 2 * len(self.domain)\n",
        "\n",
        "        xBound = []\n",
        "\n",
        "        # Iterate over dimensions\n",
        "        for i in range(len(self.domain)):\n",
        "            xBound.append(np.empty((0, 1), dtype=np.float64))\n",
        "\n",
        "            # Iterate over boundaries\n",
        "            for j in range(len(self.domain)):\n",
        "                for bound in self.domain[j]:\n",
        "                    newPoints = max(int(pointCount * self.boundaryDomainSize[j] / self.totalBoundaryDomainSize), 1)\n",
        "                    if j == i:\n",
        "                        newX = np.full((newPoints, 1), bound, dtype=np.float64)\n",
        "                    else:\n",
        "                        newX = np.random.uniform(low=self.domain[j][0], high=self.domain[j][1], size=(newPoints, 1))\n",
        "                    xBound[i] = np.concatenate((xBound[i], newX))\n",
        "\n",
        "        return xBound\n",
        "\n",
        "    def sampleData(self, interiorPointCount, boundaryPointCount):\n",
        "        feedDict = {}\n",
        "\n",
        "        xInt = self.sampleInteriorX(interiorPointCount)\n",
        "        xBound = self.sampleBoundaryX(boundaryPointCount)\n",
        "        yBoundCondition= self.boundaryCondition(xBound)\n",
        "\n",
        "        feedDict['xInt'] = np.array(xInt)[:,:,0].T\n",
        "        feedDict['xBound'] = np.array(xBound)[:,:,0].T\n",
        "        feedDict['yBoundCondition'] = np.array(yBoundCondition)\n",
        "\n",
        "        return feedDict\n",
        "\n",
        "\n",
        "    def train(self, interiorPointCount, boundaryPointCount, lossWeight, iterations, gradientDescent=True):\n",
        "        feedDict = self.sampleData(interiorPointCount=interiorPointCount, boundaryPointCount=boundaryPointCount)\n",
        "\n",
        "        self.network.train(feedDict, self.defaultLoss, iterations, gradientDescent)\n",
        "\n",
        "\n",
        "    def predict(self, interiorPointCount, boundaryPointCount, lossWeight):\n",
        "        feedDict = self.sampleData(interiorPointCount=interiorPointCount, boundaryPointCount=boundaryPointCount)\n",
        "\n",
        "        predictionInterior, predictionBound = self.network.predict(feedDict)\n",
        "\n",
        "        # Analytical Solution\n",
        "        self.analyticalInterior = self.analyticalSolution(feedDict['xInt'])\n",
        "        self.analyticalBound = self.analyticalSolution(feedDict['xBound'])\n",
        "\n",
        "        # Compute L2 error (not sure the sum of interior and boundary is what we need...)\n",
        "        errorInt = np.sqrt(np.sum((self.analyticalInterior - predictionInterior.detach().numpy()) ** 2))\n",
        "        errorBound = np.sqrt(np.sum((self.analyticalBound - predictionBound.detach().numpy()) ** 2))\n",
        "\n",
        "        return errorInt + errorBound"
      ],
      "execution_count": 130,
      "outputs": []
    },
    {
      "cell_type": "code",
      "metadata": {
        "id": "I5mcBr7BqwIT"
      },
      "source": [
        "class LaplaceBase(PDENeuralNetwork):\n",
        "    def __init__(self, domain, network=None):\n",
        "        PDENeuralNetwork.__init__(self, domain=domain, network=network)\n",
        "\n",
        "\n",
        "    def defaultLoss(self, xInt, yInt, yBound, yBoundCondition):\n",
        "        lossInt, lossBound = self.computeLossTerms(domain=self.domain, xInt=xInt, yInt=yInt, yBound=yBound, yBoundCondition=yBoundCondition)\n",
        "\n",
        "        return self.lossWeight * lossInt + (1 - self.lossWeight) * lossBound\n",
        "\n",
        "\n",
        "    def computeLossTerms(self, domain, xInt, yInt, yBound, yBoundCondition):\n",
        "        gradients = network.partialDerivative(x=xInt, order=2)\n",
        "        lossInt = torch.mean(torch.square(gradients))\n",
        "        lossBound = torch.mean(torch.square(yBound - yBoundCondition))\n",
        "\n",
        "        return lossInt, lossBound"
      ],
      "execution_count": 131,
      "outputs": []
    },
    {
      "cell_type": "code",
      "metadata": {
        "id": "sLxa1MT_qwFT"
      },
      "source": [
        "class Laplace_2d(LaplaceBase):\n",
        "    def __init__(self, frequency, lossWeight, network=None):\n",
        "        domain = [(0, 1), (0, 1)]\n",
        "        LaplaceBase.__init__(self, domain, network)\n",
        "        self.frequency = frequency\n",
        "        self.lossWeight = lossWeight\n",
        "\n",
        "\n",
        "    def analyticalSolution(self, x):\n",
        "        return np.exp(-x[0] * self.frequency) * np.sin(x[1] * self.frequency)\n",
        "\n",
        "\n",
        "    def boundaryCondition(self, x):\n",
        "        return np.exp(-x[0] * self.frequency) * np.sin(x[1] * self.frequency)"
      ],
      "execution_count": 132,
      "outputs": []
    },
    {
      "cell_type": "markdown",
      "metadata": {
        "id": "_kLpbZax-rDp"
      },
      "source": [
        "# Example"
      ]
    },
    {
      "cell_type": "code",
      "metadata": {
        "id": "R-m9C0QLiHV0"
      },
      "source": [
        "interiorPointCount = 100\n",
        "boundaryPointCount = 100\n",
        "lossWeight = 0.5\n",
        "iterations = 20000"
      ],
      "execution_count": 133,
      "outputs": []
    },
    {
      "cell_type": "code",
      "metadata": {
        "id": "Rbht3QfuiK75"
      },
      "source": [
        "network = NeuralNet([2, 20, 1], ActivationFunction.Sigmoid)\n",
        "laplace = Laplace_2d(frequency=2*np.pi, lossWeight=lossWeight, network=network)"
      ],
      "execution_count": 134,
      "outputs": []
    },
    {
      "cell_type": "code",
      "metadata": {
        "colab": {
          "base_uri": "https://localhost:8080/",
          "height": 265
        },
        "id": "mfJ_Fz0Arnc1",
        "outputId": "636fabe2-bb99-4b35-e78a-e9cc95fb39b1"
      },
      "source": [
        "data = laplace.sampleData(interiorPointCount, boundaryPointCount)\n",
        "xInt = torch.from_numpy(data['xInt']).float()\n",
        "xBound = torch.from_numpy(data['xBound']).float()\n",
        "plt.scatter( xBound[:,0], xBound[:,1] )\n",
        "plt.scatter( xInt[:,0], xInt[:,1] );"
      ],
      "execution_count": 135,
      "outputs": [
        {
          "output_type": "display_data",
          "data": {
            "image/png": "[encoded data removed]",
            "text/plain": [
              "<Figure size 432x288 with 1 Axes>"
            ]
          },
          "metadata": {
            "tags": [],
            "needs_background": "light"
          }
        }
      ]
    },
    {
      "cell_type": "markdown",
      "metadata": {
        "id": "IGej1Q1q-P2_"
      },
      "source": [
        "## Adam optimizer"
      ]
    },
    {
      "cell_type": "code",
      "metadata": {
        "colab": {
          "base_uri": "https://localhost:8080/"
        },
        "id": "tBYx4ReziK1S",
        "outputId": "37d9e9f8-d554-4153-d0dc-43e251bf271d"
      },
      "source": [
        "laplace.train(interiorPointCount, boundaryPointCount, lossWeight, iterations)"
      ],
      "execution_count": 136,
      "outputs": [
        {
          "output_type": "stream",
          "text": [
            "0 / 20000, loss:3.82e-01\n",
            "1000 / 20000, loss:4.94e-02\n",
            "2000 / 20000, loss:3.05e-02\n",
            "3000 / 20000, loss:2.74e-02\n",
            "4000 / 20000, loss:2.72e-02\n",
            "5000 / 20000, loss:2.71e-02\n",
            "6000 / 20000, loss:2.71e-02\n",
            "7000 / 20000, loss:2.71e-02\n",
            "8000 / 20000, loss:2.72e-02\n",
            "9000 / 20000, loss:2.70e-02\n",
            "10000 / 20000, loss:2.70e-02\n",
            "11000 / 20000, loss:2.70e-02\n",
            "12000 / 20000, loss:2.70e-02\n",
            "13000 / 20000, loss:2.70e-02\n",
            "14000 / 20000, loss:2.70e-02\n",
            "15000 / 20000, loss:2.70e-02\n",
            "16000 / 20000, loss:2.70e-02\n",
            "17000 / 20000, loss:2.70e-02\n",
            "18000 / 20000, loss:2.70e-02\n",
            "19000 / 20000, loss:2.70e-02\n"
          ],
          "name": "stdout"
        }
      ]
    },
    {
      "cell_type": "code",
      "metadata": {
        "colab": {
          "base_uri": "https://localhost:8080/"
        },
        "id": "ly-An_mryKpA",
        "outputId": "56f6772c-94c3-4983-a6db-34ccb485293b"
      },
      "source": [
        "laplace.predict(interiorPointCount, boundaryPointCount, lossWeight)"
      ],
      "execution_count": 137,
      "outputs": [
        {
          "output_type": "execute_result",
          "data": {
            "text/plain": [
              "6.70280935664654"
            ]
          },
          "metadata": {
            "tags": []
          },
          "execution_count": 137
        }
      ]
    },
    {
      "cell_type": "code",
      "metadata": {
        "colab": {
          "base_uri": "https://localhost:8080/",
          "height": 265
        },
        "id": "5RpWVWYUiKup",
        "outputId": "45b443c6-69e8-429d-9965-bf83dddc8d46"
      },
      "source": [
        "plt.plot(np.linspace(0, 1, 100), laplace.network.model(torch.tensor([np.zeros(100), np.linspace(0, 1, 100)]).T.float()).detach(), label='pred')\n",
        "plt.plot(np.linspace(0, 1, 100), laplace.analyticalSolution(torch.tensor([np.zeros(100), np.linspace(0, 1, 100)])), label='true')\n",
        "plt.legend();"
      ],
      "execution_count": 138,
      "outputs": [
        {
          "output_type": "display_data",
          "data": {
            "image/png": "[encoded data removed]",
            "text/plain": [
              "<Figure size 432x288 with 1 Axes>"
            ]
          },
          "metadata": {
            "tags": [],
            "needs_background": "light"
          }
        }
      ]
    },
    {
      "cell_type": "markdown",
      "metadata": {
        "id": "7TYvVpGV-UJH"
      },
      "source": [
        "## LBFGS optimizer"
      ]
    },
    {
      "cell_type": "code",
      "metadata": {
        "id": "iLaRNFnV-TV7"
      },
      "source": [
        "laplace = Laplace_2d(frequency=2*np.pi, lossWeight=lossWeight, network=network)\n",
        "laplace.train(interiorPointCount, boundaryPointCount, lossWeight, iterations,gradientDescent=False)"
      ],
      "execution_count": 139,
      "outputs": []
    },
    {
      "cell_type": "code",
      "metadata": {
        "colab": {
          "base_uri": "https://localhost:8080/"
        },
        "id": "iUnDBG0vX76t",
        "outputId": "efa785e4-53b9-4e41-e001-d10cd9c3d3b9"
      },
      "source": [
        "laplace.predict(interiorPointCount, boundaryPointCount, lossWeight)"
      ],
      "execution_count": 140,
      "outputs": [
        {
          "output_type": "execute_result",
          "data": {
            "text/plain": [
              "7.479046987271888"
            ]
          },
          "metadata": {
            "tags": []
          },
          "execution_count": 140
        }
      ]
    },
    {
      "cell_type": "code",
      "metadata": {
        "colab": {
          "base_uri": "https://localhost:8080/",
          "height": 265
        },
        "id": "WPIfpyfVX79x",
        "outputId": "c495895a-e496-4e0e-c3d2-67c171873651"
      },
      "source": [
        "plt.plot(np.linspace(0, 1, 100), laplace.network.model(torch.tensor([np.zeros(100), np.linspace(0, 1, 100)]).T.float()).detach(), label='pred')\n",
        "plt.plot(np.linspace(0, 1, 100), laplace.analyticalSolution(torch.tensor([np.zeros(100), np.linspace(0, 1, 100)])), label='true')\n",
        "plt.legend();"
      ],
      "execution_count": 141,
      "outputs": [
        {
          "output_type": "display_data",
          "data": {
            "image/png": "[encoded data removed]",
            "text/plain": [
              "<Figure size 432x288 with 1 Axes>"
            ]
          },
          "metadata": {
            "tags": [],
            "needs_background": "light"
          }
        }
      ]
    },
    {
      "cell_type": "code",
      "metadata": {
        "id": "K8QSK9KIX8A_"
      },
      "source": [
        ""
      ],
      "execution_count": null,
      "outputs": []
    }
  ]
}
