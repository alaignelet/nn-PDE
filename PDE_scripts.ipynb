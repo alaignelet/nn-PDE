{
  "nbformat": 4,
  "nbformat_minor": 0,
  "metadata": {
    "colab": {
      "name": "PDE scripts.ipynb",
      "provenance": [],
      "collapsed_sections": []
    },
    "kernelspec": {
      "name": "python3",
      "display_name": "Python 3"
    }
  },
  "cells": [
    {
      "cell_type": "code",
      "metadata": {
        "id": "CIZvMPM05_Ne"
      },
      "source": [
        "import torch\n",
        "import torch.nn as nn\n",
        "import torch.nn.functional as F\n",
        "import pandas as pd\n",
        "import numpy as np\n",
        "import matplotlib.pyplot as plt\n",
        "from enum import Enum"
      ],
      "execution_count": 5,
      "outputs": []
    },
    {
      "cell_type": "code",
      "metadata": {
        "id": "H2Zp_mo9B4ld"
      },
      "source": [
        "class ActivationFunction(Enum):\n",
        "    Tanh = 0\n",
        "    Sigmoid = 1\n",
        "    Sin = 2\n",
        "    Cos = 3\n",
        "    Atan = 4"
      ],
      "execution_count": 6,
      "outputs": []
    },
    {
      "cell_type": "code",
      "metadata": {
        "id": "WVBObHH-3gev"
      },
      "source": [
        "class ActivationFunctionNeuralNetwork(nn.Module):\n",
        "    '''Activation function of the neural network\n",
        "    '''\n",
        "\n",
        "    def __init__(self, activationFunction=ActivationFunction.Tanh):\n",
        "        super(ActivationFunctionNeuralNetwork, self).__init__()\n",
        "        self.activationFunction = activationFunction\n",
        "\n",
        "\n",
        "    def forward(self, x):\n",
        "        if self.activationFunction == ActivationFunction.Tanh:\n",
        "            return F.tanh()\n",
        "\n",
        "        elif self.activationFunction == ActivationFunction.Sigmoid:\n",
        "            return F.sigmoid(x)\n",
        "\n",
        "        elif self.activationFunction == ActivationFunction.Sin:\n",
        "            return torch.sin(x)\n",
        "\n",
        "        elif self.activationFunction == ActivationFunction.Cos:\n",
        "            return torch.cos(x)\n",
        "\n",
        "        elif self.activationFunction == ActivationFunction.Atan:\n",
        "            return torch.atan(x)\n",
        "\n",
        "\n",
        "class NeuralNet(nn.Module):\n",
        "    ''' Neural Network used as a mapping function.\n",
        "        Glorot initialisation. \n",
        "    '''\n",
        "    def __init__(self, layers, activationFunction=ActivationFunction.Tanh):\n",
        "        super(NeuralNet, self).__init__()\n",
        "\n",
        "        self.layers = []\n",
        "\n",
        "        for i in range(len(layers) - 2):\n",
        "            self.layers.append(nn.Linear(in_features=layers[i], out_features=layers[i+1]))\n",
        "            self.layers.append(ActivationFunctionNeuralNetwork(activationFunction))\n",
        "\n",
        "        self.layers.append(nn.Linear(in_features=layers[-2], out_features=layers[-1]))\n",
        "        self.model = nn.Sequential(*self.layers)\n",
        "        self.model.apply(self._normal_init) \n",
        "            \n",
        "\n",
        "    def _normal_init(self, layer):\n",
        "        if type(layer) == nn.Linear:\n",
        "            torch.nn.init.xavier_normal_(layer.weight)\n",
        "\n",
        "\n",
        "    def train(self, feedDict, lossFunction, iterations):\n",
        "        xInt = feedDict['xInt']\n",
        "        xBound = feedDic['xBound']\n",
        "        boundaryCondition = feedDict['boundaryCondition']\n",
        "\n",
        "        # default parameters to be customed\n",
        "        optimiser = torch.optim.LBFGS(\n",
        "            params=self.model.parameters(),\n",
        "            lr=1,\n",
        "            max_iter=20,\n",
        "            max_eval=None,\n",
        "            tolerance_grad=1e-07,\n",
        "            tolerance_change=1e-09,\n",
        "            history_size=100,\n",
        "            line_search_fn=None\n",
        "        )\n",
        "\n",
        "        for epoch in range(iterations):\n",
        "            yInt = self.model(xInt)\n",
        "            yBound = self.model(xBound)\n",
        "            loss = lossFunction(xInt, yInt, yBound, boundaryCondition)\n",
        "            optimizer.zero_grad()\n",
        "            loss.backward()\n",
        "            optimizer.step()\n",
        "\n",
        "        \n",
        "    def predict(self, x):\n",
        "        x = torch.tensor(x)\n",
        "        return self.model(x)"
      ],
      "execution_count": 7,
      "outputs": []
    },
    {
      "cell_type": "code",
      "metadata": {
        "id": "2mbYlhguWGMu"
      },
      "source": [
        "class PDENeuralNetwork:\n",
        "    def __init__(self, domain, network):\n",
        "        self.network = network\n",
        "        self.domain = domain\n",
        "        self.boundaryDomainSize = []\n",
        "        self.totalBoundaryDomainSize = 0\n",
        "        for i in range(len(domain)):\n",
        "            self.boundaryDomainSize.append(1)\n",
        "            for j in range(len(domain)):\n",
        "                if j != i:\n",
        "                    self.boundaryDomainSize[i] = self.boundaryDomainSize[i] * (self.domain[j][1] - self.domain[j][0])\n",
        "            self.totalBoundaryDomainSize = self.totalBoundaryDomainSize + 2 * self.boundaryDomainSize[i]\n",
        "\n",
        "\n",
        "    def SampleData(self, interiorPointCount, boundaryPointCount, validate=False, lossWeight=None):\n",
        "        feedDict = {}\n",
        "\n",
        "        xInt = self.SampleInteriorX(interiorPointCount)\n",
        "        xBound = self.SampleBoundaryX(boundaryPointCount)\n",
        "        boundaryCondition = self.BoundaryCondition(xBound)\n",
        "        if validate:\n",
        "            xInt = self.SampleInteriorX(interiorPointCount)\n",
        "            xBound = self.SampleBoundaryX(boundaryPointCount)\n",
        "            boundaryCondition = self.BoundaryCondition(xBound)\n",
        "\n",
        "            feedDict['xIntValidate'] = xInt\n",
        "            feedDict['xBoundValidate'] = xBound\n",
        "            feedDict['boundaryConditionValidate'] = boundaryCondition\n",
        "\n",
        "        feedDict['xInt'] = xInt\n",
        "        feedDict['xBound'] = xBound\n",
        "        feedDict['boundaryCondition'] = boundaryCondition\n",
        "\n",
        "        return feedDict\n",
        "\n",
        "    def sampleInteriorX(self, pointCount):\n",
        "        ''' Sample points from the domain. Eg domain = [(0, 1), (0, 1)]\n",
        "            This means sampling in every direction pointCount.\n",
        "        '''\n",
        "        if pointCount < 1:\n",
        "            pointCount = 1\n",
        "\n",
        "        xInt = []\n",
        "        for i in range(len(self.domain)):\n",
        "            xInt.append(np.random.uniform(self.domain[i][0], self.domain[i][1], (pointCount, 1)))\n",
        "        return xInt\n",
        "\n",
        "    # Sample uniform collocation points on the boundary of the domain\n",
        "    def sampleBoundaryX(self, pointCount):\n",
        "        ''' Sample points from the boundaries\n",
        "        '''\n",
        "        if pointCount < 2 * len(self.domain):\n",
        "            pointCount = 2 * len(self.domain)\n",
        "\n",
        "        xBound = []\n",
        "        # Iterate over dimensions\n",
        "        for i in range(len(self.domain)):\n",
        "            xBound.append(np.empty((0, 1), dtype=np.float64))\n",
        "\n",
        "            # Iterate over boundaries \n",
        "            for j in range(len(self.domain)):\n",
        "                for bound in self.domain[j]:\n",
        "                    newPoints = max(int(pointCount * self.boundaryDomainSize[j] / self.totalBoundaryDomainSize), 1)\n",
        "                    if j == i:\n",
        "                        newX = np.full((newPoints, 1), bound, dtype=np.float64)\n",
        "                    else:\n",
        "                        newX = np.random.uniform(self.domain[j][0], self.domain[j][1],\n",
        "                                                    (newPoints, 1))\n",
        "                    xBound[i] = np.concatenate((xBound[i], newX))\n",
        "\n",
        "        return xBound\n",
        "\n",
        "\n",
        "    def PartialDerivative(tensor, variable, order=1):\n",
        "        if order == 1:\n",
        "            torch.autograd.grad(\n",
        "                outputs=[tensor],\n",
        "                inputs=[variable],\n",
        "                grad_outputs=torch.ones_like(tensor),\n",
        "                allow_unused=True,\n",
        "                retain_graph=True,\n",
        "                create_graph=True\n",
        "            )[0]\n",
        "\n",
        "        elif order == 2:\n",
        "            # for Laplace operator, take the trace of the hessian \n",
        "            torch.autograd.functional.hessian(func=self.model(), inputs=variable)\n",
        "\n",
        "        else:\n",
        "            raise NotImplementedError\n",
        "\n",
        "\n",
        "    def train(self, lossFunction, iterations):\n",
        "        feedDict = self.SampleData(interiorPointCount=interiorPointCount,\n",
        "                                   boundaryPointCount=boundaryPointCount,\n",
        "                                   validate=False,\n",
        "                                   lossWeight=lossWeight)\n",
        "\n",
        "\n",
        "        self.network.train(feedDict, lossFunction, iterations)"
      ],
      "execution_count": 8,
      "outputs": []
    },
    {
      "cell_type": "code",
      "metadata": {
        "id": "ANsTPWlm2OCQ"
      },
      "source": [
        "class LaplaceBase(PDENeuralNetwork):\n",
        "    def ComputeLossTerms(domain, xInt, yInt, yBound, boundaryCondition):\n",
        "        gradients = [PDENeuralNetwork.PartialDerivative(yInt, xInt[i], 2)\n",
        "                     for i in range(len(domain))]\n",
        "        lossInt = tf.reduce_mean(tf.square(tf.add_n(gradients)))\n",
        "        magnitudeInt = tf.reduce_mean(tf.square(tf.add_n([tf.abs(grads) for grads in gradients])))\n",
        "        lossBound = tf.reduce_mean(tf.square(yBound - boundaryCondition))\n",
        "        magnitudeBound = tf.reduce_mean(tf.square(boundaryCondition))\n",
        "\n",
        "        return lossInt, magnitudeInt, lossBound, magnitudeBound"
      ],
      "execution_count": 9,
      "outputs": []
    },
    {
      "cell_type": "code",
      "metadata": {
        "id": "5Dly2XtSL-NX"
      },
      "source": [
        ""
      ],
      "execution_count": null,
      "outputs": []
    },
    {
      "cell_type": "code",
      "metadata": {
        "id": "Xw8iSyVarNVg"
      },
      "source": [
        "network = NeuralNet([2, 10, 10, 1], ActivationFunction.Sigmoid)\n",
        "domain = [(0, 1), (0, 1)]"
      ],
      "execution_count": null,
      "outputs": []
    },
    {
      "cell_type": "code",
      "metadata": {
        "id": "X-xLLAK5rNZG"
      },
      "source": [
        "pde = PDENeuralNetwork(domain, network)"
      ],
      "execution_count": null,
      "outputs": []
    },
    {
      "cell_type": "code",
      "metadata": {
        "id": "h2elQMMrxlCv"
      },
      "source": [
        "xInt = pde.SampleInteriorX(100)"
      ],
      "execution_count": null,
      "outputs": []
    },
    {
      "cell_type": "code",
      "metadata": {
        "id": "sOVc23eErNc2"
      },
      "source": [
        "xBound = pde.SampleBoundaryX(100)"
      ],
      "execution_count": null,
      "outputs": []
    },
    {
      "cell_type": "code",
      "metadata": {
        "colab": {
          "base_uri": "https://localhost:8080/",
          "height": 265
        },
        "id": "saK2jb_lwosQ",
        "outputId": "cb089639-2f34-4638-8525-6942131866e0"
      },
      "source": [
        "plt.scatter(np.array(xBound)[0,:,0], np.array(xBound)[1,:,0])\n",
        "plt.scatter(np.array(xInt)[0,:,0], np.array(xInt)[1,:,0]);"
      ],
      "execution_count": null,
      "outputs": [
        {
          "output_type": "display_data",
          "data": {
            "image/png": "[encoded data removed]",
            "text/plain": [
              "<Figure size 432x288 with 1 Axes>"
            ]
          },
          "metadata": {
            "tags": [],
            "needs_background": "light"
          }
        }
      ]
    },
    {
      "cell_type": "code",
      "metadata": {
        "id": "jtMrqZw3w2QW"
      },
      "source": [
        ""
      ],
      "execution_count": null,
      "outputs": []
    },
    {
      "cell_type": "code",
      "metadata": {
        "id": "g9rwZwx_w2Us"
      },
      "source": [
        ""
      ],
      "execution_count": null,
      "outputs": []
    },
    {
      "cell_type": "code",
      "metadata": {
        "id": "6md3sKIHw2ZQ"
      },
      "source": [
        ""
      ],
      "execution_count": null,
      "outputs": []
    }
  ]
}