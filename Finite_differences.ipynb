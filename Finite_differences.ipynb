{
  "nbformat": 4,
  "nbformat_minor": 0,
  "metadata": {
    "colab": {
      "name": "Finite differences.ipynb",
      "provenance": [],
      "collapsed_sections": [],
      "authorship_tag": "ABX9TyPOIy55GMBQVdeuR4TwaeZQ",
      "include_colab_link": true
    },
    "kernelspec": {
      "name": "python3",
      "display_name": "Python 3"
    },
    "widgets": {
      "application/vnd.jupyter.widget-state+json": {
        "bb1af773309c4fef810aeb19887440fe": {
          "model_module": "@jupyter-widgets/controls",
          "model_name": "HBoxModel",
          "state": {
            "_view_name": "HBoxView",
            "_dom_classes": [],
            "_model_name": "HBoxModel",
            "_view_module": "@jupyter-widgets/controls",
            "_model_module_version": "1.5.0",
            "_view_count": null,
            "_view_module_version": "1.5.0",
            "box_style": "",
            "layout": "IPY_MODEL_16d1d690368a4234bf26810ab7829372",
            "_model_module": "@jupyter-widgets/controls",
            "children": [
              "IPY_MODEL_c3c19c5930154b4db157ad416c369518",
              "IPY_MODEL_e0e44142a300422a90598c61a797993f"
            ]
          }
        },
        "16d1d690368a4234bf26810ab7829372": {
          "model_module": "@jupyter-widgets/base",
          "model_name": "LayoutModel",
          "state": {
            "_view_name": "LayoutView",
            "grid_template_rows": null,
            "right": null,
            "justify_content": null,
            "_view_module": "@jupyter-widgets/base",
            "overflow": null,
            "_model_module_version": "1.2.0",
            "_view_count": null,
            "flex_flow": null,
            "width": null,
            "min_width": null,
            "border": null,
            "align_items": null,
            "bottom": null,
            "_model_module": "@jupyter-widgets/base",
            "top": null,
            "grid_column": null,
            "overflow_y": null,
            "overflow_x": null,
            "grid_auto_flow": null,
            "grid_area": null,
            "grid_template_columns": null,
            "flex": null,
            "_model_name": "LayoutModel",
            "justify_items": null,
            "grid_row": null,
            "max_height": null,
            "align_content": null,
            "visibility": null,
            "align_self": null,
            "height": null,
            "min_height": null,
            "padding": null,
            "grid_auto_rows": null,
            "grid_gap": null,
            "max_width": null,
            "order": null,
            "_view_module_version": "1.2.0",
            "grid_template_areas": null,
            "object_position": null,
            "object_fit": null,
            "grid_auto_columns": null,
            "margin": null,
            "display": null,
            "left": null
          }
        },
        "c3c19c5930154b4db157ad416c369518": {
          "model_module": "@jupyter-widgets/controls",
          "model_name": "FloatProgressModel",
          "state": {
            "_view_name": "ProgressView",
            "style": "IPY_MODEL_ff3f8cbae0bd4a4cae4fb26ff3940d8a",
            "_dom_classes": [],
            "description": "100%",
            "_model_name": "FloatProgressModel",
            "bar_style": "success",
            "max": 1999,
            "_view_module": "@jupyter-widgets/controls",
            "_model_module_version": "1.5.0",
            "value": 1999,
            "_view_count": null,
            "_view_module_version": "1.5.0",
            "orientation": "horizontal",
            "min": 0,
            "description_tooltip": null,
            "_model_module": "@jupyter-widgets/controls",
            "layout": "IPY_MODEL_dadf35dca8f64121b3cb0fe1b86f6adf"
          }
        },
        "e0e44142a300422a90598c61a797993f": {
          "model_module": "@jupyter-widgets/controls",
          "model_name": "HTMLModel",
          "state": {
            "_view_name": "HTMLView",
            "style": "IPY_MODEL_2320d47b1c7e4262839689dd21405571",
            "_dom_classes": [],
            "description": "",
            "_model_name": "HTMLModel",
            "placeholder": "​",
            "_view_module": "@jupyter-widgets/controls",
            "_model_module_version": "1.5.0",
            "value": " 1999/1999 [00:40&lt;00:00, 49.50it/s]",
            "_view_count": null,
            "_view_module_version": "1.5.0",
            "description_tooltip": null,
            "_model_module": "@jupyter-widgets/controls",
            "layout": "IPY_MODEL_7b3f219b3c4c444f8ce20572b5889225"
          }
        },
        "ff3f8cbae0bd4a4cae4fb26ff3940d8a": {
          "model_module": "@jupyter-widgets/controls",
          "model_name": "ProgressStyleModel",
          "state": {
            "_view_name": "StyleView",
            "_model_name": "ProgressStyleModel",
            "description_width": "initial",
            "_view_module": "@jupyter-widgets/base",
            "_model_module_version": "1.5.0",
            "_view_count": null,
            "_view_module_version": "1.2.0",
            "bar_color": null,
            "_model_module": "@jupyter-widgets/controls"
          }
        },
        "dadf35dca8f64121b3cb0fe1b86f6adf": {
          "model_module": "@jupyter-widgets/base",
          "model_name": "LayoutModel",
          "state": {
            "_view_name": "LayoutView",
            "grid_template_rows": null,
            "right": null,
            "justify_content": null,
            "_view_module": "@jupyter-widgets/base",
            "overflow": null,
            "_model_module_version": "1.2.0",
            "_view_count": null,
            "flex_flow": null,
            "width": null,
            "min_width": null,
            "border": null,
            "align_items": null,
            "bottom": null,
            "_model_module": "@jupyter-widgets/base",
            "top": null,
            "grid_column": null,
            "overflow_y": null,
            "overflow_x": null,
            "grid_auto_flow": null,
            "grid_area": null,
            "grid_template_columns": null,
            "flex": null,
            "_model_name": "LayoutModel",
            "justify_items": null,
            "grid_row": null,
            "max_height": null,
            "align_content": null,
            "visibility": null,
            "align_self": null,
            "height": null,
            "min_height": null,
            "padding": null,
            "grid_auto_rows": null,
            "grid_gap": null,
            "max_width": null,
            "order": null,
            "_view_module_version": "1.2.0",
            "grid_template_areas": null,
            "object_position": null,
            "object_fit": null,
            "grid_auto_columns": null,
            "margin": null,
            "display": null,
            "left": null
          }
        },
        "2320d47b1c7e4262839689dd21405571": {
          "model_module": "@jupyter-widgets/controls",
          "model_name": "DescriptionStyleModel",
          "state": {
            "_view_name": "StyleView",
            "_model_name": "DescriptionStyleModel",
            "description_width": "",
            "_view_module": "@jupyter-widgets/base",
            "_model_module_version": "1.5.0",
            "_view_count": null,
            "_view_module_version": "1.2.0",
            "_model_module": "@jupyter-widgets/controls"
          }
        },
        "7b3f219b3c4c444f8ce20572b5889225": {
          "model_module": "@jupyter-widgets/base",
          "model_name": "LayoutModel",
          "state": {
            "_view_name": "LayoutView",
            "grid_template_rows": null,
            "right": null,
            "justify_content": null,
            "_view_module": "@jupyter-widgets/base",
            "overflow": null,
            "_model_module_version": "1.2.0",
            "_view_count": null,
            "flex_flow": null,
            "width": null,
            "min_width": null,
            "border": null,
            "align_items": null,
            "bottom": null,
            "_model_module": "@jupyter-widgets/base",
            "top": null,
            "grid_column": null,
            "overflow_y": null,
            "overflow_x": null,
            "grid_auto_flow": null,
            "grid_area": null,
            "grid_template_columns": null,
            "flex": null,
            "_model_name": "LayoutModel",
            "justify_items": null,
            "grid_row": null,
            "max_height": null,
            "align_content": null,
            "visibility": null,
            "align_self": null,
            "height": null,
            "min_height": null,
            "padding": null,
            "grid_auto_rows": null,
            "grid_gap": null,
            "max_width": null,
            "order": null,
            "_view_module_version": "1.2.0",
            "grid_template_areas": null,
            "object_position": null,
            "object_fit": null,
            "grid_auto_columns": null,
            "margin": null,
            "display": null,
            "left": null
          }
        },
        "0547ab44f37446bc83b760afb835b40b": {
          "model_module": "@jupyter-widgets/controls",
          "model_name": "FloatSliderModel",
          "state": {
            "_view_name": "FloatSliderView",
            "style": "IPY_MODEL_155fc8d48e5e495fa78f1bf27e2b95b5",
            "_dom_classes": [],
            "description": "t",
            "step": 1,
            "_model_name": "FloatSliderModel",
            "orientation": "horizontal",
            "max": 1999,
            "_view_module": "@jupyter-widgets/controls",
            "_model_module_version": "1.5.0",
            "value": 1229,
            "_view_count": null,
            "disabled": false,
            "_view_module_version": "1.5.0",
            "min": 0,
            "continuous_update": true,
            "readout_format": ".2f",
            "description_tooltip": null,
            "readout": true,
            "_model_module": "@jupyter-widgets/controls",
            "layout": "IPY_MODEL_6b659f0e2e7447e294179686b68f89d4"
          }
        },
        "155fc8d48e5e495fa78f1bf27e2b95b5": {
          "model_module": "@jupyter-widgets/controls",
          "model_name": "SliderStyleModel",
          "state": {
            "_view_name": "StyleView",
            "handle_color": null,
            "_model_name": "SliderStyleModel",
            "description_width": "",
            "_view_module": "@jupyter-widgets/base",
            "_model_module_version": "1.5.0",
            "_view_count": null,
            "_view_module_version": "1.2.0",
            "_model_module": "@jupyter-widgets/controls"
          }
        },
        "6b659f0e2e7447e294179686b68f89d4": {
          "model_module": "@jupyter-widgets/base",
          "model_name": "LayoutModel",
          "state": {
            "_view_name": "LayoutView",
            "grid_template_rows": null,
            "right": null,
            "justify_content": null,
            "_view_module": "@jupyter-widgets/base",
            "overflow": null,
            "_model_module_version": "1.2.0",
            "_view_count": null,
            "flex_flow": null,
            "width": null,
            "min_width": null,
            "border": null,
            "align_items": null,
            "bottom": null,
            "_model_module": "@jupyter-widgets/base",
            "top": null,
            "grid_column": null,
            "overflow_y": null,
            "overflow_x": null,
            "grid_auto_flow": null,
            "grid_area": null,
            "grid_template_columns": null,
            "flex": null,
            "_model_name": "LayoutModel",
            "justify_items": null,
            "grid_row": null,
            "max_height": null,
            "align_content": null,
            "visibility": null,
            "align_self": null,
            "height": null,
            "min_height": null,
            "padding": null,
            "grid_auto_rows": null,
            "grid_gap": null,
            "max_width": null,
            "order": null,
            "_view_module_version": "1.2.0",
            "grid_template_areas": null,
            "object_position": null,
            "object_fit": null,
            "grid_auto_columns": null,
            "margin": null,
            "display": null,
            "left": null
          }
        },
        "b762ba9f4dbf4f1fb99d7f0961726864": {
          "model_module": "@jupyter-widgets/output",
          "model_name": "OutputModel",
          "state": {
            "_view_name": "OutputView",
            "msg_id": "",
            "_dom_classes": [],
            "_model_name": "OutputModel",
            "outputs": [
              {
                "output_type": "display_data",
                "metadata": {
                  "tags": [],
                  "needs_background": "light"
                },
                "image/png": "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\n",
                "text/plain": "<Figure size 432x288 with 2 Axes>"
              }
            ],
            "_view_module": "@jupyter-widgets/output",
            "_model_module_version": "1.0.0",
            "_view_count": null,
            "_view_module_version": "1.0.0",
            "layout": "IPY_MODEL_d5a0d916713742e6a19fdf7c0e744b6b",
            "_model_module": "@jupyter-widgets/output"
          }
        },
        "d5a0d916713742e6a19fdf7c0e744b6b": {
          "model_module": "@jupyter-widgets/base",
          "model_name": "LayoutModel",
          "state": {
            "_view_name": "LayoutView",
            "grid_template_rows": null,
            "right": null,
            "justify_content": null,
            "_view_module": "@jupyter-widgets/base",
            "overflow": null,
            "_model_module_version": "1.2.0",
            "_view_count": null,
            "flex_flow": null,
            "width": null,
            "min_width": null,
            "border": null,
            "align_items": null,
            "bottom": null,
            "_model_module": "@jupyter-widgets/base",
            "top": null,
            "grid_column": null,
            "overflow_y": null,
            "overflow_x": null,
            "grid_auto_flow": null,
            "grid_area": null,
            "grid_template_columns": null,
            "flex": null,
            "_model_name": "LayoutModel",
            "justify_items": null,
            "grid_row": null,
            "max_height": null,
            "align_content": null,
            "visibility": null,
            "align_self": null,
            "height": null,
            "min_height": null,
            "padding": null,
            "grid_auto_rows": null,
            "grid_gap": null,
            "max_width": null,
            "order": null,
            "_view_module_version": "1.2.0",
            "grid_template_areas": null,
            "object_position": null,
            "object_fit": null,
            "grid_auto_columns": null,
            "margin": null,
            "display": null,
            "left": null
          }
        }
      }
    }
  },
  "cells": [
    {
      "cell_type": "markdown",
      "metadata": {
        "id": "view-in-github",
        "colab_type": "text"
      },
      "source": [
        "<a href=\"https://colab.research.google.com/github/alaignelet/nn-PDE/blob/main/Finite_differences.ipynb\" target=\"_parent\"><img src=\"https://colab.research.google.com/assets/colab-badge.svg\" alt=\"Open In Colab\"/></a>"
      ]
    },
    {
      "cell_type": "code",
      "metadata": {
        "id": "NS-ib7uCmo8I"
      },
      "source": [
        "import numpy as np\n",
        "import matplotlib.pyplot as plt\n",
        "from tqdm.notebook import tqdm\n",
        "from ipywidgets import interact, interactive, fixed, interact_manual\n",
        "import ipywidgets as widgets"
      ],
      "execution_count": 1,
      "outputs": []
    },
    {
      "cell_type": "code",
      "metadata": {
        "id": "7_Yeky-dmqoY"
      },
      "source": [
        "iter_space = 50\n",
        "iter_time = 2000\n",
        "\n",
        "delta_t = 1e-5\n",
        "delta_x = 1."
      ],
      "execution_count": 172,
      "outputs": []
    },
    {
      "cell_type": "code",
      "metadata": {
        "id": "en988LwBn9T2"
      },
      "source": [
        "v = np.zeros( (iter_time, iter_space, iter_space) )\n",
        "\n",
        "beta = 1."
      ],
      "execution_count": 173,
      "outputs": []
    },
    {
      "cell_type": "code",
      "metadata": {
        "id": "yOAPg9CxsxCR"
      },
      "source": [
        "def calculate(v):\n",
        "    for k in tqdm(range(iter_time - 1, 0, -1)):\n",
        "        for i in range(1, iter_space - 1):\n",
        "            for j in range(1, iter_space - 1):\n",
        "                i_space = i - iter_space / 2\n",
        "                j_space = j - iter_space / 2\n",
        "                v[k - 1, i, j] = v[k, i, j] - delta_t / (2 * beta * delta_x**2) * ( v[k, i + 1, j] + v[k, i - 1, j] + v[k, i, j + 1] + v[k, i, j - 1] - v[k, i, j] ) - delta_t * j_space * ( v[k, i + 1, j] - v[k, i, j] ) - delta_t * ( -i_space + j_space - j_space * (i_space * delta_x)**2 ) * ( v[k, i, j + 1] - v[k, i, j] ) - delta_t * (i_space * delta_x)**2 - delta_t * (j_space * delta_x)**2\n",
        "    return v"
      ],
      "execution_count": 174,
      "outputs": []
    },
    {
      "cell_type": "code",
      "metadata": {
        "colab": {
          "base_uri": "https://localhost:8080/",
          "height": 66,
          "referenced_widgets": [
            "bb1af773309c4fef810aeb19887440fe",
            "16d1d690368a4234bf26810ab7829372",
            "c3c19c5930154b4db157ad416c369518",
            "e0e44142a300422a90598c61a797993f",
            "ff3f8cbae0bd4a4cae4fb26ff3940d8a",
            "dadf35dca8f64121b3cb0fe1b86f6adf",
            "2320d47b1c7e4262839689dd21405571",
            "7b3f219b3c4c444f8ce20572b5889225"
          ]
        },
        "id": "hrGOBp8Tx9Zx",
        "outputId": "8902af8f-75d6-477a-9c06-691bd32e0927"
      },
      "source": [
        "v = calculate(v)"
      ],
      "execution_count": 175,
      "outputs": [
        {
          "output_type": "display_data",
          "data": {
            "application/vnd.jupyter.widget-view+json": {
              "model_id": "bb1af773309c4fef810aeb19887440fe",
              "version_minor": 0,
              "version_major": 2
            },
            "text/plain": [
              "HBox(children=(FloatProgress(value=0.0, max=1999.0), HTML(value='')))"
            ]
          },
          "metadata": {
            "tags": []
          }
        },
        {
          "output_type": "stream",
          "text": [
            "\n"
          ],
          "name": "stdout"
        }
      ]
    },
    {
      "cell_type": "code",
      "metadata": {
        "id": "eyXDKj3kpAyS"
      },
      "source": [
        "def plot_solution(t):\n",
        "    plt.pcolormesh(v[int(t)], cmap=plt.cm.jet, vmin=-10, vmax=0)\n",
        "    plt.title(\"Temperature at t = %.2f unit time\" % (t * delta_t))\n",
        "    plt.xlabel(\"x\")\n",
        "    plt.ylabel(\"y\")\n",
        "    plt.colorbar()"
      ],
      "execution_count": 176,
      "outputs": []
    },
    {
      "cell_type": "code",
      "metadata": {
        "colab": {
          "base_uri": "https://localhost:8080/",
          "height": 327,
          "referenced_widgets": [
            "0547ab44f37446bc83b760afb835b40b",
            "155fc8d48e5e495fa78f1bf27e2b95b5",
            "6b659f0e2e7447e294179686b68f89d4",
            "b762ba9f4dbf4f1fb99d7f0961726864",
            "d5a0d916713742e6a19fdf7c0e744b6b"
          ]
        },
        "id": "5rWFV2nJpD0y",
        "outputId": "b9dfc3bb-60bb-474c-8ce6-fbebfd0e4f1a"
      },
      "source": [
        "time_factor = widgets.FloatSlider(value=iter_time-1, min=0, max=iter_time-1, step=1, description='t')\n",
        "\n",
        "ui = time_factor\n",
        "out = widgets.interactive_output(plot_solution, {'t': time_factor})\n",
        "\n",
        "display(ui, out)"
      ],
      "execution_count": 177,
      "outputs": [
        {
          "output_type": "display_data",
          "data": {
            "application/vnd.jupyter.widget-view+json": {
              "model_id": "0547ab44f37446bc83b760afb835b40b",
              "version_minor": 0,
              "version_major": 2
            },
            "text/plain": [
              "FloatSlider(value=1999.0, description='t', max=1999.0, step=1.0)"
            ]
          },
          "metadata": {
            "tags": []
          }
        },
        {
          "output_type": "display_data",
          "data": {
            "application/vnd.jupyter.widget-view+json": {
              "model_id": "b762ba9f4dbf4f1fb99d7f0961726864",
              "version_minor": 0,
              "version_major": 2
            },
            "text/plain": [
              "Output()"
            ]
          },
          "metadata": {
            "tags": []
          }
        }
      ]
    },
    {
      "cell_type": "code",
      "metadata": {
        "id": "CniJxC5KpDrB"
      },
      "source": [
        ""
      ],
      "execution_count": null,
      "outputs": []
    }
  ]
}